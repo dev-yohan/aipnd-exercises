{
 "cells": [
  {
   "cell_type": "code",
   "execution_count": 1,
   "metadata": {
    "collapsed": true
   },
   "outputs": [],
   "source": [
    "import numpy as np\n",
    "import pandas as pd\n",
    "import matplotlib.pyplot as plt\n",
    "import seaborn as sb\n",
    "\n",
    "%matplotlib inline"
   ]
  },
  {
   "cell_type": "code",
   "execution_count": 2,
   "metadata": {},
   "outputs": [
    {
     "name": "stdout",
     "output_type": "stream",
     "text": [
      "(38113, 81)\n"
     ]
    },
    {
     "data": {
      "text/html": [
       "<div>\n",
       "<style>\n",
       "    .dataframe thead tr:only-child th {\n",
       "        text-align: right;\n",
       "    }\n",
       "\n",
       "    .dataframe thead th {\n",
       "        text-align: left;\n",
       "    }\n",
       "\n",
       "    .dataframe tbody tr th {\n",
       "        vertical-align: top;\n",
       "    }\n",
       "</style>\n",
       "<table border=\"1\" class=\"dataframe\">\n",
       "  <thead>\n",
       "    <tr style=\"text-align: right;\">\n",
       "      <th></th>\n",
       "      <th>Vehicle ID</th>\n",
       "      <th>Year</th>\n",
       "      <th>Make</th>\n",
       "      <th>Model</th>\n",
       "      <th>Class</th>\n",
       "      <th>Drive</th>\n",
       "      <th>Transmission</th>\n",
       "      <th>Transmission Descriptor</th>\n",
       "      <th>Engine Index</th>\n",
       "      <th>Engine Descriptor</th>\n",
       "      <th>...</th>\n",
       "      <th>Hours to Charge (AC 240V)</th>\n",
       "      <th>Composite City MPG</th>\n",
       "      <th>Composite Highway MPG</th>\n",
       "      <th>Composite Combined MPG</th>\n",
       "      <th>Range (FT1)</th>\n",
       "      <th>City Range (FT1)</th>\n",
       "      <th>Highway Range (FT1)</th>\n",
       "      <th>Range (FT2)</th>\n",
       "      <th>City Range (FT2)</th>\n",
       "      <th>Highway Range (FT2)</th>\n",
       "    </tr>\n",
       "  </thead>\n",
       "  <tbody>\n",
       "    <tr>\n",
       "      <th>0</th>\n",
       "      <td>26587</td>\n",
       "      <td>1984</td>\n",
       "      <td>Alfa Romeo</td>\n",
       "      <td>GT V6 2.5</td>\n",
       "      <td>Minicompact Cars</td>\n",
       "      <td>NaN</td>\n",
       "      <td>Manual 5-Speed</td>\n",
       "      <td>NaN</td>\n",
       "      <td>9001</td>\n",
       "      <td>(FFS)</td>\n",
       "      <td>...</td>\n",
       "      <td>0.0</td>\n",
       "      <td>0</td>\n",
       "      <td>0</td>\n",
       "      <td>0</td>\n",
       "      <td>0</td>\n",
       "      <td>0.0</td>\n",
       "      <td>0.0</td>\n",
       "      <td>NaN</td>\n",
       "      <td>0.0</td>\n",
       "      <td>0.0</td>\n",
       "    </tr>\n",
       "    <tr>\n",
       "      <th>1</th>\n",
       "      <td>27705</td>\n",
       "      <td>1984</td>\n",
       "      <td>Alfa Romeo</td>\n",
       "      <td>GT V6 2.5</td>\n",
       "      <td>Minicompact Cars</td>\n",
       "      <td>NaN</td>\n",
       "      <td>Manual 5-Speed</td>\n",
       "      <td>NaN</td>\n",
       "      <td>9005</td>\n",
       "      <td>(FFS) CA model</td>\n",
       "      <td>...</td>\n",
       "      <td>0.0</td>\n",
       "      <td>0</td>\n",
       "      <td>0</td>\n",
       "      <td>0</td>\n",
       "      <td>0</td>\n",
       "      <td>0.0</td>\n",
       "      <td>0.0</td>\n",
       "      <td>NaN</td>\n",
       "      <td>0.0</td>\n",
       "      <td>0.0</td>\n",
       "    </tr>\n",
       "    <tr>\n",
       "      <th>2</th>\n",
       "      <td>26561</td>\n",
       "      <td>1984</td>\n",
       "      <td>Alfa Romeo</td>\n",
       "      <td>Spider Veloce 2000</td>\n",
       "      <td>Two Seaters</td>\n",
       "      <td>NaN</td>\n",
       "      <td>Manual 5-Speed</td>\n",
       "      <td>NaN</td>\n",
       "      <td>9002</td>\n",
       "      <td>(FFS)</td>\n",
       "      <td>...</td>\n",
       "      <td>0.0</td>\n",
       "      <td>0</td>\n",
       "      <td>0</td>\n",
       "      <td>0</td>\n",
       "      <td>0</td>\n",
       "      <td>0.0</td>\n",
       "      <td>0.0</td>\n",
       "      <td>NaN</td>\n",
       "      <td>0.0</td>\n",
       "      <td>0.0</td>\n",
       "    </tr>\n",
       "    <tr>\n",
       "      <th>3</th>\n",
       "      <td>27681</td>\n",
       "      <td>1984</td>\n",
       "      <td>Alfa Romeo</td>\n",
       "      <td>Spider Veloce 2000</td>\n",
       "      <td>Two Seaters</td>\n",
       "      <td>NaN</td>\n",
       "      <td>Manual 5-Speed</td>\n",
       "      <td>NaN</td>\n",
       "      <td>9006</td>\n",
       "      <td>(FFS) CA model</td>\n",
       "      <td>...</td>\n",
       "      <td>0.0</td>\n",
       "      <td>0</td>\n",
       "      <td>0</td>\n",
       "      <td>0</td>\n",
       "      <td>0</td>\n",
       "      <td>0.0</td>\n",
       "      <td>0.0</td>\n",
       "      <td>NaN</td>\n",
       "      <td>0.0</td>\n",
       "      <td>0.0</td>\n",
       "    </tr>\n",
       "    <tr>\n",
       "      <th>4</th>\n",
       "      <td>27550</td>\n",
       "      <td>1984</td>\n",
       "      <td>AM General</td>\n",
       "      <td>DJ Po Vehicle 2WD</td>\n",
       "      <td>Special Purpose Vehicle 2WD</td>\n",
       "      <td>2-Wheel Drive</td>\n",
       "      <td>Automatic 3-Speed</td>\n",
       "      <td>NaN</td>\n",
       "      <td>1830</td>\n",
       "      <td>(FFS)</td>\n",
       "      <td>...</td>\n",
       "      <td>0.0</td>\n",
       "      <td>0</td>\n",
       "      <td>0</td>\n",
       "      <td>0</td>\n",
       "      <td>0</td>\n",
       "      <td>0.0</td>\n",
       "      <td>0.0</td>\n",
       "      <td>NaN</td>\n",
       "      <td>0.0</td>\n",
       "      <td>0.0</td>\n",
       "    </tr>\n",
       "    <tr>\n",
       "      <th>5</th>\n",
       "      <td>28426</td>\n",
       "      <td>1984</td>\n",
       "      <td>AM General</td>\n",
       "      <td>DJ Po Vehicle 2WD</td>\n",
       "      <td>Special Purpose Vehicle 2WD</td>\n",
       "      <td>2-Wheel Drive</td>\n",
       "      <td>Automatic 3-Speed</td>\n",
       "      <td>NaN</td>\n",
       "      <td>1880</td>\n",
       "      <td>(FFS) CA model</td>\n",
       "      <td>...</td>\n",
       "      <td>0.0</td>\n",
       "      <td>0</td>\n",
       "      <td>0</td>\n",
       "      <td>0</td>\n",
       "      <td>0</td>\n",
       "      <td>0.0</td>\n",
       "      <td>0.0</td>\n",
       "      <td>NaN</td>\n",
       "      <td>0.0</td>\n",
       "      <td>0.0</td>\n",
       "    </tr>\n",
       "  </tbody>\n",
       "</table>\n",
       "<p>6 rows × 81 columns</p>\n",
       "</div>"
      ],
      "text/plain": [
       "   Vehicle ID  Year        Make               Model  \\\n",
       "0       26587  1984  Alfa Romeo           GT V6 2.5   \n",
       "1       27705  1984  Alfa Romeo           GT V6 2.5   \n",
       "2       26561  1984  Alfa Romeo  Spider Veloce 2000   \n",
       "3       27681  1984  Alfa Romeo  Spider Veloce 2000   \n",
       "4       27550  1984  AM General   DJ Po Vehicle 2WD   \n",
       "5       28426  1984  AM General   DJ Po Vehicle 2WD   \n",
       "\n",
       "                         Class          Drive       Transmission  \\\n",
       "0             Minicompact Cars            NaN     Manual 5-Speed   \n",
       "1             Minicompact Cars            NaN     Manual 5-Speed   \n",
       "2                  Two Seaters            NaN     Manual 5-Speed   \n",
       "3                  Two Seaters            NaN     Manual 5-Speed   \n",
       "4  Special Purpose Vehicle 2WD  2-Wheel Drive  Automatic 3-Speed   \n",
       "5  Special Purpose Vehicle 2WD  2-Wheel Drive  Automatic 3-Speed   \n",
       "\n",
       "  Transmission Descriptor  Engine Index Engine Descriptor  \\\n",
       "0                     NaN          9001             (FFS)   \n",
       "1                     NaN          9005    (FFS) CA model   \n",
       "2                     NaN          9002             (FFS)   \n",
       "3                     NaN          9006    (FFS) CA model   \n",
       "4                     NaN          1830             (FFS)   \n",
       "5                     NaN          1880    (FFS) CA model   \n",
       "\n",
       "          ...           Hours to Charge (AC 240V)  Composite City MPG  \\\n",
       "0         ...                                 0.0                   0   \n",
       "1         ...                                 0.0                   0   \n",
       "2         ...                                 0.0                   0   \n",
       "3         ...                                 0.0                   0   \n",
       "4         ...                                 0.0                   0   \n",
       "5         ...                                 0.0                   0   \n",
       "\n",
       "  Composite Highway MPG Composite Combined MPG Range (FT1) City Range (FT1)  \\\n",
       "0                     0                      0           0              0.0   \n",
       "1                     0                      0           0              0.0   \n",
       "2                     0                      0           0              0.0   \n",
       "3                     0                      0           0              0.0   \n",
       "4                     0                      0           0              0.0   \n",
       "5                     0                      0           0              0.0   \n",
       "\n",
       "  Highway Range (FT1)  Range (FT2)  City Range (FT2)  Highway Range (FT2)  \n",
       "0                 0.0          NaN               0.0                  0.0  \n",
       "1                 0.0          NaN               0.0                  0.0  \n",
       "2                 0.0          NaN               0.0                  0.0  \n",
       "3                 0.0          NaN               0.0                  0.0  \n",
       "4                 0.0          NaN               0.0                  0.0  \n",
       "5                 0.0          NaN               0.0                  0.0  \n",
       "\n",
       "[6 rows x 81 columns]"
      ]
     },
     "execution_count": 2,
     "metadata": {},
     "output_type": "execute_result"
    }
   ],
   "source": [
    "fuel_econ = pd.read_csv('database.csv', low_memory=False)\n",
    "print(fuel_econ.shape)\n",
    "fuel_econ.head(6)"
   ]
  },
  {
   "cell_type": "code",
   "execution_count": 3,
   "metadata": {
    "collapsed": true
   },
   "outputs": [],
   "source": [
    "sedan_classes = ['Minicompact Cars', 'Subcompact Cars', 'Compact Cars', 'Midsize Cars', 'Large Cars']\n",
    "fuel_econ['Class'] = fuel_econ['Class'].astype('category', ordered = True, categories = sedan_classes)"
   ]
  },
  {
   "cell_type": "code",
   "execution_count": 4,
   "metadata": {},
   "outputs": [
    {
     "data": {
      "text/plain": [
       "<matplotlib.axes._subplots.AxesSubplot at 0x11a6039b0>"
      ]
     },
     "execution_count": 4,
     "metadata": {},
     "output_type": "execute_result"
    },
    {
     "data": {
      "image/png": "[encoded data removed]",
      "text/plain": [
       "<matplotlib.figure.Figure at 0x10f5024a8>"
      ]
     },
     "metadata": {},
     "output_type": "display_data"
    }
   ],
   "source": [
    "sb.boxplot(data = fuel_econ, x = 'Class', y = 'Combined MPG (FT1)')"
   ]
  },
  {
   "cell_type": "code",
   "execution_count": 6,
   "metadata": {},
   "outputs": [
    {
     "data": {
      "text/plain": [
       "(array([0, 1, 2, 3, 4]), <a list of 5 Text xticklabel objects>)"
      ]
     },
     "execution_count": 6,
     "metadata": {},
     "output_type": "execute_result"
    },
    {
     "data": {
      "image/png": "[encoded data removed]",
      "text/plain": [
       "<matplotlib.figure.Figure at 0x11a6bcf60>"
      ]
     },
     "metadata": {},
     "output_type": "display_data"
    }
   ],
   "source": [
    "base_color = sb.color_palette()[0]\n",
    "sb.boxplot(data = fuel_econ, x = 'Class', y = 'Combined MPG (FT1)',\n",
    "             color = base_color)\n",
    "plt.xticks(rotation = 90)"
   ]
  },
  {
   "cell_type": "code",
   "execution_count": 8,
   "metadata": {},
   "outputs": [
    {
     "data": {
      "text/plain": [
       "<matplotlib.axes._subplots.AxesSubplot at 0x1167b9f28>"
      ]
     },
     "execution_count": 8,
     "metadata": {},
     "output_type": "execute_result"
    },
    {
     "data": {
      "image/png": "[encoded data removed]",
      "text/plain": [
       "<matplotlib.figure.Figure at 0x10eef6eb8>"
      ]
     },
     "metadata": {},
     "output_type": "display_data"
    }
   ],
   "source": [
    "base_color = sb.color_palette()[0]\n",
    "sb.boxplot(data = fuel_econ, x = 'Combined MPG (FT1)', y = 'Class',\n",
    "             color = base_color)"
   ]
  },
  {
   "cell_type": "code",
   "execution_count": null,
   "metadata": {
    "collapsed": true
   },
   "outputs": [],
   "source": []
  }
 ],
 "metadata": {
  "kernelspec": {
   "display_name": "Python 3",
   "language": "python",
   "name": "python3"
  },
  "language_info": {
   "codemirror_mode": {
    "name": "ipython",
    "version": 3
   },
   "file_extension": ".py",
   "mimetype": "text/x-python",
   "name": "python",
   "nbconvert_exporter": "python",
   "pygments_lexer": "ipython3",
   "version": "3.6.2"
  }
 },
 "nbformat": 4,
 "nbformat_minor": 2
}
